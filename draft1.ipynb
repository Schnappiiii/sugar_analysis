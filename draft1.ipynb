{
 "cells": [
  {
   "cell_type": "code",
   "execution_count": null,
   "metadata": {},
   "outputs": [],
   "source": [
    "# # using groupby\n",
    "# very_important_features = ['chocolate', 'peanutyalmondy', 'caramel']\n",
    "# relation = data.groupby(very_important_features).agg({'winpercent':'mean'}).reset_index().rename(columns={'winpercent':'winpercent_mean'})\n",
    "# winpercent_count = data.groupby(very_important_features).agg({'winpercent':'count'}).reset_index().rename(columns={'winpercent':'winpercent_count'}).winpercent_count\n",
    "# relation['winpercent_count'] = winpercent_count\n",
    "# relation.sort_values(by=['winpercent_mean','winpercent_count'], ascending=False, inplace=True)\n",
    "# relation"
   ]
  },
  {
   "cell_type": "code",
   "execution_count": null,
   "metadata": {},
   "outputs": [],
   "source": [
    "pca = PCA(random_state=1)\n",
    "pca.fit_transform(data.iloc[:,1:])\n",
    "\n",
    "df_pca = pd.DataFrame({'components':range(1,len(data.columns[1:])+1), \\\n",
    "    'explained variance ratio':pca.explained_variance_ratio_, 'cumulative explained variance ratio':np.cumsum(pca.explained_variance_ratio_)})\n",
    "df_pca\n",
    "\n",
    "\n",
    "fig = go.Figure()\n",
    "fig = make_subplots(rows=1, cols=2)\n",
    "fig.add_trace(go.Scatter(x=df_pca.components, y=df_pca['explained variance ratio'], mode='lines+markers'), row=1, col=1)\n",
    "fig.add_trace(go.Scatter(x=df_pca.components, y=df_pca['cumulative explained variance ratio'], mode='lines+markers'), row=1, col=2)\n",
    "fig.update_xaxes(title_text=\"principal components\", row=1, col=1)\n",
    "fig.update_yaxes(title_text=\"explained variance ratio\", row=1, col=1)\n",
    "fig.update_xaxes(title_text=\"number of components\", row=1, col=2)\n",
    "fig.update_yaxes(title_text=\"cumulative explained variance ratio\", row=1, col=2)\n",
    "fig.update_layout(title_text='PCA', title_font=dict(size=29, color='#8a8d93', family=\"Lato, sans-serif\"), showlegend=False)\n",
    "fig.show()\n",
    "\n",
    "# 2d\n",
    "comp2 = pd.DataFrame({'PC1':pca.components_[0],'PC2':pca.components_[1], 'features':data.iloc[:,1:].columns})\n",
    "fig = plt.figure(figsize = (6,6))\n",
    "px.scatter(comp2, x='PC1', y='PC2', color='features', text=\"features\")\n",
    "\n",
    "\n",
    "# 3d\n",
    "pca = PCA(n_components=3)\n",
    "components = pca.fit_transform(X)\n",
    "\n",
    "total_var = pca.explained_variance_ratio_.sum() * 100\n",
    "\n",
    "fig = px.scatter_3d(\n",
    "    components, x=0, y=1, z=2, color=df['species'],\n",
    "    title=f'Total Explained Variance: {total_var:.2f}%',\n",
    "    labels={'0': 'PC 1', '1': 'PC 2', '2': 'PC 3'}\n",
    ")\n",
    "fig.show()"
   ]
  },
  {
   "cell_type": "markdown",
   "metadata": {},
   "source": [
    "### Logistic regression"
   ]
  },
  {
   "cell_type": "code",
   "execution_count": null,
   "metadata": {},
   "outputs": [],
   "source": [
    "features = data.columns[2:]\n",
    "X_train = data[features]\n",
    "y_train = data.chocolate.ravel()\n",
    "\n",
    "random_grid = {'C':np.logspace(-4, 4, 50), 'solver':['newton-cg','lbfgs','liblinear','sag','saga'], 'max_iter':[300,500,700]}\n",
    "\n",
    "lr = LogisticRegression()\n",
    "model_lr = RandomizedSearchCV(estimator = lr, param_distributions = random_grid, cv = 4, refit = True, random_state=42, n_jobs = 2)\n",
    "model_lr.fit(X_train, y_train)\n",
    "\n",
    "pred_lr = cross_val_predict(model_lr.best_estimator_, X_train, y_train, cv=4, n_jobs=2)\n",
    "\n",
    "print(f'model_rfg best parameters: {model_lr.best_params_}, \\nR2 score: {metrics.r2_score(y_train, pred_lr)}, \\\n",
    "    \\nRoot Mean Square Error: {math.sqrt(metrics.mean_squared_error(y_train, pred_lr))}')\n",
    "\n",
    "df_lr = pd.DataFrame({'feature': features, 'importance': model_lr.best_estimator_.coef_.squeeze()})\n",
    "px.bar(df_lr, x='feature', y='importance').update_xaxes(categoryorder=\"total descending\")"
   ]
  },
  {
   "cell_type": "markdown",
   "metadata": {},
   "source": [
    "Some of the interesting conclusions about this analysis:\n",
    "\n",
    "1) __Chocolate__ is the most effective component which affects the popularity. In caontrary, __Fruity__ goes in a completly different direction as others.\n",
    "\n",
    "2) __Do not make fruit candies or hard candies packt in a bag__ as much as possible.\n",
    "\n",
    "3) Candies containing __chocolate and caramel or peanutyalmondy__ in the forms __bar or crispedricewafer__ are more probable to sell.\n",
    "\n",
    "4) If we want the candies that has __more over 55% winpercentage__, we have to make soft candies contain __chocolate and caramel__.\n",
    "\n",
    "5) If we want the candies that has __more over 60% winpercentage__, we have to make soft bar candies contain __chocolate and wafer__. (Then, select one from peanutyalmondy and caramel or both.)\n",
    "\n",
    "7) __Recommendotion__: Soft bar candy with chocolate and without fruit, separate packing, select peanutyalmondy or crispedricewafer or caramel one or more. The price can be increased to more than 60 percent."
   ]
  },
  {
   "cell_type": "code",
   "execution_count": null,
   "metadata": {},
   "outputs": [],
   "source": [
    "print('soft bar candies contain chocolate and wafer')\n",
    "sort_data.query('chocolate==1 & crispedricewafer==1 & bar==1')  #  & fruity==0 & hard==0"
   ]
  }
 ],
 "metadata": {
  "kernelspec": {
   "display_name": "Python 3.7.11 ('pytorch_python37')",
   "language": "python",
   "name": "python3"
  },
  "language_info": {
   "name": "python",
   "version": "3.7.11"
  },
  "orig_nbformat": 4,
  "vscode": {
   "interpreter": {
    "hash": "a856c511376e4fad5bf16bc9ec57d9c74a3ea67d15c55c34d53977b519b704db"
   }
  }
 },
 "nbformat": 4,
 "nbformat_minor": 2
}
